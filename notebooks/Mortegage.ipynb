{
 "cells": [
  {
   "cell_type": "code",
   "execution_count": 10,
   "id": "d9d0490e",
   "metadata": {},
   "outputs": [
    {
     "name": "stdout",
     "output_type": "stream",
     "text": [
      "For a 25 year mortgage loan of $350,000\n",
      "at an annual interest rate of 1.30%\n",
      "you pay $1367.13 monthly\n",
      "----------------------------------------\n",
      "Total amount paid will be $410,138.21\n"
     ]
    }
   ],
   "source": [
    "import math\n",
    "\n",
    "def calc_mortgage(principal, interest, years):\n",
    "    '''\n",
    "    given mortgage loan principal, interest(%) and years to pay\n",
    "    calculate and return monthly payment amount\n",
    "    '''\n",
    "    # monthly rate from annual percentage rate\n",
    "    interest_rate = interest/(100 * 12)\n",
    "    # total number of payments\n",
    "    payment_num = years * 12\n",
    "    # calculate monthly payment\n",
    "    payment = principal * \\\n",
    "        (interest_rate/(1-math.pow((1+interest_rate), (-payment_num))))\n",
    "    return payment\n",
    "\n",
    "\n",
    "# mortgage loan principal\n",
    "principal = 350000\n",
    "# percent annual interest\n",
    "interest = 1.3\n",
    "# years to pay off mortgage\n",
    "years = 25\n",
    "# calculate monthly payment amount\n",
    "monthly_payment = calc_mortgage(principal, interest, years)\n",
    "# calculate total amount paid\n",
    "total_amount = monthly_payment * years * 12\n",
    "\n",
    "# show result ...\n",
    "# {:,} uses the comma as a thousands separator\n",
    "sf = '''\\\n",
    "For a {} year mortgage loan of ${:,}\n",
    "at an annual interest rate of {:.2f}%\n",
    "you pay ${:.2f} monthly'''\n",
    "print(sf.format(years, principal, interest, monthly_payment))\n",
    "print('-'*40)\n",
    "print(\"Total amount paid will be ${:,.2f}\".format(total_amount))\n"
   ]
  },
  {
   "cell_type": "code",
   "execution_count": null,
   "id": "6b159503",
   "metadata": {},
   "outputs": [],
   "source": []
  }
 ],
 "metadata": {
  "kernelspec": {
   "display_name": "Python 3 (ipykernel)",
   "language": "python",
   "name": "python3"
  },
  "language_info": {
   "codemirror_mode": {
    "name": "ipython",
    "version": 3
   },
   "file_extension": ".py",
   "mimetype": "text/x-python",
   "name": "python",
   "nbconvert_exporter": "python",
   "pygments_lexer": "ipython3",
   "version": "3.8.12"
  },
  "toc": {
   "base_numbering": 1,
   "nav_menu": {},
   "number_sections": true,
   "sideBar": true,
   "skip_h1_title": false,
   "title_cell": "Table of Contents",
   "title_sidebar": "Contents",
   "toc_cell": false,
   "toc_position": {},
   "toc_section_display": true,
   "toc_window_display": false
  }
 },
 "nbformat": 4,
 "nbformat_minor": 5
}
